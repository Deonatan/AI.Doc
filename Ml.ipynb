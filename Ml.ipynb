{
 "metadata": {
  "language_info": {
   "codemirror_mode": {
    "name": "ipython",
    "version": 3
   },
   "file_extension": ".py",
   "mimetype": "text/x-python",
   "name": "python",
   "nbconvert_exporter": "python",
   "pygments_lexer": "ipython3",
   "version": "3.8.5-final"
  },
  "orig_nbformat": 2,
  "kernelspec": {
   "name": "python3",
   "display_name": "Python 3.8.5 64-bit (conda)",
   "metadata": {
    "interpreter": {
     "hash": "3f800561dde6209f0c647b1ec24b295364b37801e2a63d392a491285ef4d5a88"
    }
   }
  }
 },
 "nbformat": 4,
 "nbformat_minor": 2,
 "cells": [
  {
   "cell_type": "code",
   "execution_count": 18,
   "metadata": {},
   "outputs": [],
   "source": [
    "import pandas as pd \n",
    "import numpy as np \n",
    "import pickle"
   ]
  },
  {
   "cell_type": "code",
   "execution_count": 19,
   "metadata": {},
   "outputs": [],
   "source": [
    "temp = pd.read_csv('cardio_train.csv' , sep = ';')"
   ]
  },
  {
   "cell_type": "code",
   "execution_count": 20,
   "metadata": {},
   "outputs": [],
   "source": [
    "temp.drop(temp[temp['ap_hi'] > 230].index, inplace= True)\n",
    "temp.drop(temp[temp['ap_lo'] > 130].index, inplace= True)\n",
    "temp.drop(temp[temp['ap_hi'] < 60].index, inplace= True)\n",
    "temp.drop(temp[temp['ap_lo'] < 40].index, inplace= True)"
   ]
  },
  {
   "cell_type": "code",
   "execution_count": 21,
   "metadata": {},
   "outputs": [],
   "source": [
    "age = pd.DataFrame((temp['age']/365).astype(int)) \n",
    "weight = pd.DataFrame(temp['weight'].astype(int)) "
   ]
  },
  {
   "cell_type": "code",
   "execution_count": 22,
   "metadata": {},
   "outputs": [
    {
     "output_type": "execute_result",
     "data": {
      "text/plain": [
       "   age  weight  height  ap_hi  ap_lo  smoke  cholesterol  gluc  alco  gender  \\\n",
       "0   50      62     168    110     80      0            1     1     0       2   \n",
       "1   55      85     156    140     90      0            3     1     0       1   \n",
       "2   51      64     165    130     70      0            3     1     0       1   \n",
       "3   48      82     169    150    100      0            1     1     0       2   \n",
       "4   47      56     156    100     60      0            1     1     0       1   \n",
       "\n",
       "   active  cardio  \n",
       "0       1       0  \n",
       "1       1       1  \n",
       "2       0       1  \n",
       "3       1       1  \n",
       "4       0       0  "
      ],
      "text/html": "<div>\n<style scoped>\n    .dataframe tbody tr th:only-of-type {\n        vertical-align: middle;\n    }\n\n    .dataframe tbody tr th {\n        vertical-align: top;\n    }\n\n    .dataframe thead th {\n        text-align: right;\n    }\n</style>\n<table border=\"1\" class=\"dataframe\">\n  <thead>\n    <tr style=\"text-align: right;\">\n      <th></th>\n      <th>age</th>\n      <th>weight</th>\n      <th>height</th>\n      <th>ap_hi</th>\n      <th>ap_lo</th>\n      <th>smoke</th>\n      <th>cholesterol</th>\n      <th>gluc</th>\n      <th>alco</th>\n      <th>gender</th>\n      <th>active</th>\n      <th>cardio</th>\n    </tr>\n  </thead>\n  <tbody>\n    <tr>\n      <th>0</th>\n      <td>50</td>\n      <td>62</td>\n      <td>168</td>\n      <td>110</td>\n      <td>80</td>\n      <td>0</td>\n      <td>1</td>\n      <td>1</td>\n      <td>0</td>\n      <td>2</td>\n      <td>1</td>\n      <td>0</td>\n    </tr>\n    <tr>\n      <th>1</th>\n      <td>55</td>\n      <td>85</td>\n      <td>156</td>\n      <td>140</td>\n      <td>90</td>\n      <td>0</td>\n      <td>3</td>\n      <td>1</td>\n      <td>0</td>\n      <td>1</td>\n      <td>1</td>\n      <td>1</td>\n    </tr>\n    <tr>\n      <th>2</th>\n      <td>51</td>\n      <td>64</td>\n      <td>165</td>\n      <td>130</td>\n      <td>70</td>\n      <td>0</td>\n      <td>3</td>\n      <td>1</td>\n      <td>0</td>\n      <td>1</td>\n      <td>0</td>\n      <td>1</td>\n    </tr>\n    <tr>\n      <th>3</th>\n      <td>48</td>\n      <td>82</td>\n      <td>169</td>\n      <td>150</td>\n      <td>100</td>\n      <td>0</td>\n      <td>1</td>\n      <td>1</td>\n      <td>0</td>\n      <td>2</td>\n      <td>1</td>\n      <td>1</td>\n    </tr>\n    <tr>\n      <th>4</th>\n      <td>47</td>\n      <td>56</td>\n      <td>156</td>\n      <td>100</td>\n      <td>60</td>\n      <td>0</td>\n      <td>1</td>\n      <td>1</td>\n      <td>0</td>\n      <td>1</td>\n      <td>0</td>\n      <td>0</td>\n    </tr>\n  </tbody>\n</table>\n</div>"
     },
     "metadata": {},
     "execution_count": 22
    }
   ],
   "source": [
    "CardioData = pd.concat([age,weight,temp[['height','ap_hi','ap_lo','smoke','cholesterol','gluc','alco','gender','active','cardio']]] , axis = 1 , join = 'inner') \n",
    "CardioData.head()"
   ]
  },
  {
   "cell_type": "code",
   "execution_count": 23,
   "metadata": {},
   "outputs": [],
   "source": [
    "# features \n",
    "X = CardioData.iloc[: , 0:11] \n",
    "# Cardio Disease Status \n",
    "y = CardioData.iloc[: , 11]"
   ]
  },
  {
   "cell_type": "code",
   "execution_count": 24,
   "metadata": {},
   "outputs": [],
   "source": [
    "from sklearn.model_selection import train_test_split\n",
    "X_train, X_test, Y_train, Y_test = train_test_split(X, y, test_size = 0.25, random_state = 0)"
   ]
  },
  {
   "cell_type": "code",
   "execution_count": 25,
   "metadata": {},
   "outputs": [
    {
     "output_type": "stream",
     "name": "stdout",
     "text": [
      "Classification Accuracy :  0.7229595994877168\n"
     ]
    }
   ],
   "source": [
    "from sklearn.svm import SVC\n",
    "classifier = SVC(kernel = 'rbf', random_state = 0)\n",
    "classifier.fit(X_train, Y_train) \n",
    "Y_pred = classifier.predict(X_test)\n",
    "print('Classification Accuracy : ' , classifier.score(X_test , Y_test))"
   ]
  },
  {
   "cell_type": "code",
   "execution_count": 39,
   "metadata": {},
   "outputs": [],
   "source": [
    "#save pickle file \n",
    "with open('trainedResult.pkl' , 'wb') as fp:\n",
    "    pickle.dump(classifier , fp)"
   ]
  },
  {
   "cell_type": "code",
   "execution_count": 38,
   "metadata": {},
   "outputs": [],
   "source": [
    "loaded_model = pickle.load(open('trainedResult.pkl' ,'rb'))"
   ]
  },
  {
   "cell_type": "code",
   "execution_count": 37,
   "metadata": {},
   "outputs": [
    {
     "output_type": "stream",
     "name": "stdout",
     "text": [
      "[1]\n"
     ]
    }
   ],
   "source": [
    "y = loaded_model.predict([[50,0.62,0.42,0.24,0.69,0,0.33,1.0,0,1,1]])\n",
    "print(y)"
   ]
  },
  {
   "cell_type": "code",
   "execution_count": null,
   "metadata": {},
   "outputs": [],
   "source": []
  }
 ]
}